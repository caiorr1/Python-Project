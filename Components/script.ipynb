{
 "cells": [
  {
   "cell_type": "code",
   "execution_count": 3,
   "metadata": {},
   "outputs": [
    {
     "name": "stdout",
     "output_type": "stream",
     "text": [
      "Dados combinados e salvos em caminhoes.json\n"
     ]
    }
   ],
   "source": [
    "import pandas as pd\n",
    "import json\n",
    "\n",
    "marcas_df = pd.read_csv('../data/marcas-caminhao.csv', sep=';')\n",
    "modelos_df = pd.read_csv('../data/modelos-caminhao.csv', sep=';')\n",
    "\n",
    "marcas_df.rename(columns={'ID': 'IDMARCA', 'NOME': 'nome'}, inplace=True)\n",
    "\n",
    "merged_df = pd.merge(modelos_df, marcas_df, on='IDMARCA', how='left')\n",
    "\n",
    "\n",
    "merged_df.rename(columns={'ID': 'ID_modelo', 'NOME': 'nome_modelo'}, inplace=True)\n",
    "\n",
    "merged_df.fillna(\"\", inplace=True)\n",
    "\n",
    "data = {\n",
    "    'caminhao': merged_df.to_dict(orient='records')\n",
    "}\n",
    "\n",
    "\n",
    "with open('caminhoes.json', 'w') as json_file:\n",
    "    json.dump(data, json_file, indent=4)\n",
    "\n",
    "print('Dados combinados e salvos em caminhoes.json')\n"
   ]
  }
 ],
 "metadata": {
  "kernelspec": {
   "display_name": "Python 3",
   "language": "python",
   "name": "python3"
  },
  "language_info": {
   "codemirror_mode": {
    "name": "ipython",
    "version": 3
   },
   "file_extension": ".py",
   "mimetype": "text/x-python",
   "name": "python",
   "nbconvert_exporter": "python",
   "pygments_lexer": "ipython3",
   "version": "3.11.5"
  },
  "orig_nbformat": 4
 },
 "nbformat": 4,
 "nbformat_minor": 2
}
